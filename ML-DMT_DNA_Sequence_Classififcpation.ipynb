{
  "cells": [
    {
      "cell_type": "markdown",
      "metadata": {
        "id": "view-in-github",
        "colab_type": "text"
      },
      "source": [
        "<a href=\"https://colab.research.google.com/github/mobilttterbang/DNA_Classification_Project/blob/main/ML-DMT_DNA_Sequence_Classififcpation.ipynb\" target=\"_parent\"><img src=\"https://colab.research.google.com/assets/colab-badge.svg\" alt=\"Open In Colab\"/></a>"
      ]
    },
    {
      "cell_type": "markdown",
      "metadata": {
        "id": "YfXVRyHhrxTB"
      },
      "source": [
        "# **Diabetes Mellitus *DNA Classification* using Machine Learning**\n",
        "Here we will classify the DM DNA based on the sequences using conventional Machine Learning algorithm: XGBoost.\n"
      ]
    },
    {
      "cell_type": "markdown",
      "metadata": {
        "id": "9auRWZbRsMnm"
      },
      "source": [
        "## Import libraries and set up environment"
      ]
    },
    {
      "cell_type": "code",
      "execution_count": null,
      "metadata": {
        "id": "9yvVmALvqDtY"
      },
      "outputs": [],
      "source": [
        "# import librabries required\n",
        "import numpy as np\n",
        "import pandas as pd\n",
        "import seaborn as sns\n",
        "import matplotlib.pyplot as plt\n",
        "from sklearn.feature_extraction.text import CountVectorizer, TfidfVectorizer\n",
        "from imblearn.over_sampling import SMOTE\n",
        "from sklearn.preprocessing import LabelEncoder\n",
        "from sklearn.model_selection import RandomizedSearchCV\n",
        "from xgboost import XGBClassifier\n",
        "from sklearn.metrics import classification_report\n",
        "\n",
        "\n",
        "import warnings\n",
        "warnings.filterwarnings('ignore')"
      ]
    },
    {
      "cell_type": "code",
      "execution_count": null,
      "metadata": {
        "colab": {
          "base_uri": "https://localhost:8080/"
        },
        "id": "YWsfk4DisXrv",
        "outputId": "f4bfcf4e-479a-4b34-e8d8-90f56658ffa3"
      },
      "outputs": [
        {
          "output_type": "stream",
          "name": "stdout",
          "text": [
            "Drive already mounted at /content/drive/; to attempt to forcibly remount, call drive.mount(\"/content/drive/\", force_remount=True).\n",
            "/content/drive/My Drive/DM-DNA-Sequence\n",
            "Complete_DM_DNA_Sequence.csv  DMNon_DNA.txt   DMT1_DNA.txt     DMT2_DNA.txt\n",
            "DM-DNA\t\t\t      DMT1_213.fasta  DMT2_1296.fasta  NONDM.fasta\n",
            "DMNon_DNA.csv\t\t      DMT1_DNA.csv    DMT2_DNA.csv     Undropped_DM_DNA_Sequence.csv\n"
          ]
        }
      ],
      "source": [
        "# Mount drive to save/upload file permanently after upload it to gdrive\n",
        "from google.colab import drive\n",
        "path = r'/content/drive/'\n",
        "drive.mount(path)\n",
        "\n",
        "# change directory to a specific folder\n",
        "%cd '/content/drive/My Drive/DM-DNA-Sequence'\n",
        "\n",
        "# shows all files within current directory\n",
        "!ls"
      ]
    },
    {
      "cell_type": "markdown",
      "metadata": {
        "id": "pW64IolEshZY"
      },
      "source": [
        "## Read DNA Files"
      ]
    },
    {
      "cell_type": "code",
      "execution_count": null,
      "metadata": {
        "colab": {
          "base_uri": "https://localhost:8080/",
          "height": 206
        },
        "id": "goECHO-Usa-9",
        "outputId": "eca543c1-2100-4bad-b856-aecd1e6ee2da"
      },
      "outputs": [
        {
          "output_type": "execute_result",
          "data": {
            "text/plain": [
              "                                               sequence  length  class\n",
              "384   CCCGCGCTCCTCCGGGCAGAGCGCGTGTGGCGGCCGAGCACATGGG...    2323  NONDM\n",
              "1386  GCGGGCGGTGGAAGGCGGAAGTAGGAGAGGAGTTCGGCGCCGCTTC...    4487   DMT2\n",
              "911   ACAGCTGTGTTTGGCTGCAGGGCCAAGAGCGCTGTCAAGAAGACCC...    3156  NONDM\n",
              "1172  AGTTATTTCTCGCCTGGCACTCGCCCGGGCTGCTGCTGCTGCTGCT...    3681  NONDM\n",
              "763   AGGCTGGAGGCCCGCGGGCAGTGGAGAGACGCTGGGGAAGGGGGGT...    2863  NONDM"
            ],
            "text/html": [
              "\n",
              "  <div id=\"df-fbe07178-75cb-403e-b59a-a9885cdc38a8\" class=\"colab-df-container\">\n",
              "    <div>\n",
              "<style scoped>\n",
              "    .dataframe tbody tr th:only-of-type {\n",
              "        vertical-align: middle;\n",
              "    }\n",
              "\n",
              "    .dataframe tbody tr th {\n",
              "        vertical-align: top;\n",
              "    }\n",
              "\n",
              "    .dataframe thead th {\n",
              "        text-align: right;\n",
              "    }\n",
              "</style>\n",
              "<table border=\"1\" class=\"dataframe\">\n",
              "  <thead>\n",
              "    <tr style=\"text-align: right;\">\n",
              "      <th></th>\n",
              "      <th>sequence</th>\n",
              "      <th>length</th>\n",
              "      <th>class</th>\n",
              "    </tr>\n",
              "  </thead>\n",
              "  <tbody>\n",
              "    <tr>\n",
              "      <th>384</th>\n",
              "      <td>CCCGCGCTCCTCCGGGCAGAGCGCGTGTGGCGGCCGAGCACATGGG...</td>\n",
              "      <td>2323</td>\n",
              "      <td>NONDM</td>\n",
              "    </tr>\n",
              "    <tr>\n",
              "      <th>1386</th>\n",
              "      <td>GCGGGCGGTGGAAGGCGGAAGTAGGAGAGGAGTTCGGCGCCGCTTC...</td>\n",
              "      <td>4487</td>\n",
              "      <td>DMT2</td>\n",
              "    </tr>\n",
              "    <tr>\n",
              "      <th>911</th>\n",
              "      <td>ACAGCTGTGTTTGGCTGCAGGGCCAAGAGCGCTGTCAAGAAGACCC...</td>\n",
              "      <td>3156</td>\n",
              "      <td>NONDM</td>\n",
              "    </tr>\n",
              "    <tr>\n",
              "      <th>1172</th>\n",
              "      <td>AGTTATTTCTCGCCTGGCACTCGCCCGGGCTGCTGCTGCTGCTGCT...</td>\n",
              "      <td>3681</td>\n",
              "      <td>NONDM</td>\n",
              "    </tr>\n",
              "    <tr>\n",
              "      <th>763</th>\n",
              "      <td>AGGCTGGAGGCCCGCGGGCAGTGGAGAGACGCTGGGGAAGGGGGGT...</td>\n",
              "      <td>2863</td>\n",
              "      <td>NONDM</td>\n",
              "    </tr>\n",
              "  </tbody>\n",
              "</table>\n",
              "</div>\n",
              "    <div class=\"colab-df-buttons\">\n",
              "\n",
              "  <div class=\"colab-df-container\">\n",
              "    <button class=\"colab-df-convert\" onclick=\"convertToInteractive('df-fbe07178-75cb-403e-b59a-a9885cdc38a8')\"\n",
              "            title=\"Convert this dataframe to an interactive table.\"\n",
              "            style=\"display:none;\">\n",
              "\n",
              "  <svg xmlns=\"http://www.w3.org/2000/svg\" height=\"24px\" viewBox=\"0 -960 960 960\">\n",
              "    <path d=\"M120-120v-720h720v720H120Zm60-500h600v-160H180v160Zm220 220h160v-160H400v160Zm0 220h160v-160H400v160ZM180-400h160v-160H180v160Zm440 0h160v-160H620v160ZM180-180h160v-160H180v160Zm440 0h160v-160H620v160Z\"/>\n",
              "  </svg>\n",
              "    </button>\n",
              "\n",
              "  <style>\n",
              "    .colab-df-container {\n",
              "      display:flex;\n",
              "      gap: 12px;\n",
              "    }\n",
              "\n",
              "    .colab-df-convert {\n",
              "      background-color: #E8F0FE;\n",
              "      border: none;\n",
              "      border-radius: 50%;\n",
              "      cursor: pointer;\n",
              "      display: none;\n",
              "      fill: #1967D2;\n",
              "      height: 32px;\n",
              "      padding: 0 0 0 0;\n",
              "      width: 32px;\n",
              "    }\n",
              "\n",
              "    .colab-df-convert:hover {\n",
              "      background-color: #E2EBFA;\n",
              "      box-shadow: 0px 1px 2px rgba(60, 64, 67, 0.3), 0px 1px 3px 1px rgba(60, 64, 67, 0.15);\n",
              "      fill: #174EA6;\n",
              "    }\n",
              "\n",
              "    .colab-df-buttons div {\n",
              "      margin-bottom: 4px;\n",
              "    }\n",
              "\n",
              "    [theme=dark] .colab-df-convert {\n",
              "      background-color: #3B4455;\n",
              "      fill: #D2E3FC;\n",
              "    }\n",
              "\n",
              "    [theme=dark] .colab-df-convert:hover {\n",
              "      background-color: #434B5C;\n",
              "      box-shadow: 0px 1px 3px 1px rgba(0, 0, 0, 0.15);\n",
              "      filter: drop-shadow(0px 1px 2px rgba(0, 0, 0, 0.3));\n",
              "      fill: #FFFFFF;\n",
              "    }\n",
              "  </style>\n",
              "\n",
              "    <script>\n",
              "      const buttonEl =\n",
              "        document.querySelector('#df-fbe07178-75cb-403e-b59a-a9885cdc38a8 button.colab-df-convert');\n",
              "      buttonEl.style.display =\n",
              "        google.colab.kernel.accessAllowed ? 'block' : 'none';\n",
              "\n",
              "      async function convertToInteractive(key) {\n",
              "        const element = document.querySelector('#df-fbe07178-75cb-403e-b59a-a9885cdc38a8');\n",
              "        const dataTable =\n",
              "          await google.colab.kernel.invokeFunction('convertToInteractive',\n",
              "                                                    [key], {});\n",
              "        if (!dataTable) return;\n",
              "\n",
              "        const docLinkHtml = 'Like what you see? Visit the ' +\n",
              "          '<a target=\"_blank\" href=https://colab.research.google.com/notebooks/data_table.ipynb>data table notebook</a>'\n",
              "          + ' to learn more about interactive tables.';\n",
              "        element.innerHTML = '';\n",
              "        dataTable['output_type'] = 'display_data';\n",
              "        await google.colab.output.renderOutput(dataTable, element);\n",
              "        const docLink = document.createElement('div');\n",
              "        docLink.innerHTML = docLinkHtml;\n",
              "        element.appendChild(docLink);\n",
              "      }\n",
              "    </script>\n",
              "  </div>\n",
              "\n",
              "\n",
              "<div id=\"df-17acd0ec-f0fe-45f0-b8e1-7807b1798e53\">\n",
              "  <button class=\"colab-df-quickchart\" onclick=\"quickchart('df-17acd0ec-f0fe-45f0-b8e1-7807b1798e53')\"\n",
              "            title=\"Suggest charts\"\n",
              "            style=\"display:none;\">\n",
              "\n",
              "<svg xmlns=\"http://www.w3.org/2000/svg\" height=\"24px\"viewBox=\"0 0 24 24\"\n",
              "     width=\"24px\">\n",
              "    <g>\n",
              "        <path d=\"M19 3H5c-1.1 0-2 .9-2 2v14c0 1.1.9 2 2 2h14c1.1 0 2-.9 2-2V5c0-1.1-.9-2-2-2zM9 17H7v-7h2v7zm4 0h-2V7h2v10zm4 0h-2v-4h2v4z\"/>\n",
              "    </g>\n",
              "</svg>\n",
              "  </button>\n",
              "\n",
              "<style>\n",
              "  .colab-df-quickchart {\n",
              "      --bg-color: #E8F0FE;\n",
              "      --fill-color: #1967D2;\n",
              "      --hover-bg-color: #E2EBFA;\n",
              "      --hover-fill-color: #174EA6;\n",
              "      --disabled-fill-color: #AAA;\n",
              "      --disabled-bg-color: #DDD;\n",
              "  }\n",
              "\n",
              "  [theme=dark] .colab-df-quickchart {\n",
              "      --bg-color: #3B4455;\n",
              "      --fill-color: #D2E3FC;\n",
              "      --hover-bg-color: #434B5C;\n",
              "      --hover-fill-color: #FFFFFF;\n",
              "      --disabled-bg-color: #3B4455;\n",
              "      --disabled-fill-color: #666;\n",
              "  }\n",
              "\n",
              "  .colab-df-quickchart {\n",
              "    background-color: var(--bg-color);\n",
              "    border: none;\n",
              "    border-radius: 50%;\n",
              "    cursor: pointer;\n",
              "    display: none;\n",
              "    fill: var(--fill-color);\n",
              "    height: 32px;\n",
              "    padding: 0;\n",
              "    width: 32px;\n",
              "  }\n",
              "\n",
              "  .colab-df-quickchart:hover {\n",
              "    background-color: var(--hover-bg-color);\n",
              "    box-shadow: 0 1px 2px rgba(60, 64, 67, 0.3), 0 1px 3px 1px rgba(60, 64, 67, 0.15);\n",
              "    fill: var(--button-hover-fill-color);\n",
              "  }\n",
              "\n",
              "  .colab-df-quickchart-complete:disabled,\n",
              "  .colab-df-quickchart-complete:disabled:hover {\n",
              "    background-color: var(--disabled-bg-color);\n",
              "    fill: var(--disabled-fill-color);\n",
              "    box-shadow: none;\n",
              "  }\n",
              "\n",
              "  .colab-df-spinner {\n",
              "    border: 2px solid var(--fill-color);\n",
              "    border-color: transparent;\n",
              "    border-bottom-color: var(--fill-color);\n",
              "    animation:\n",
              "      spin 1s steps(1) infinite;\n",
              "  }\n",
              "\n",
              "  @keyframes spin {\n",
              "    0% {\n",
              "      border-color: transparent;\n",
              "      border-bottom-color: var(--fill-color);\n",
              "      border-left-color: var(--fill-color);\n",
              "    }\n",
              "    20% {\n",
              "      border-color: transparent;\n",
              "      border-left-color: var(--fill-color);\n",
              "      border-top-color: var(--fill-color);\n",
              "    }\n",
              "    30% {\n",
              "      border-color: transparent;\n",
              "      border-left-color: var(--fill-color);\n",
              "      border-top-color: var(--fill-color);\n",
              "      border-right-color: var(--fill-color);\n",
              "    }\n",
              "    40% {\n",
              "      border-color: transparent;\n",
              "      border-right-color: var(--fill-color);\n",
              "      border-top-color: var(--fill-color);\n",
              "    }\n",
              "    60% {\n",
              "      border-color: transparent;\n",
              "      border-right-color: var(--fill-color);\n",
              "    }\n",
              "    80% {\n",
              "      border-color: transparent;\n",
              "      border-right-color: var(--fill-color);\n",
              "      border-bottom-color: var(--fill-color);\n",
              "    }\n",
              "    90% {\n",
              "      border-color: transparent;\n",
              "      border-bottom-color: var(--fill-color);\n",
              "    }\n",
              "  }\n",
              "</style>\n",
              "\n",
              "  <script>\n",
              "    async function quickchart(key) {\n",
              "      const quickchartButtonEl =\n",
              "        document.querySelector('#' + key + ' button');\n",
              "      quickchartButtonEl.disabled = true;  // To prevent multiple clicks.\n",
              "      quickchartButtonEl.classList.add('colab-df-spinner');\n",
              "      try {\n",
              "        const charts = await google.colab.kernel.invokeFunction(\n",
              "            'suggestCharts', [key], {});\n",
              "      } catch (error) {\n",
              "        console.error('Error during call to suggestCharts:', error);\n",
              "      }\n",
              "      quickchartButtonEl.classList.remove('colab-df-spinner');\n",
              "      quickchartButtonEl.classList.add('colab-df-quickchart-complete');\n",
              "    }\n",
              "    (() => {\n",
              "      let quickchartButtonEl =\n",
              "        document.querySelector('#df-17acd0ec-f0fe-45f0-b8e1-7807b1798e53 button');\n",
              "      quickchartButtonEl.style.display =\n",
              "        google.colab.kernel.accessAllowed ? 'block' : 'none';\n",
              "    })();\n",
              "  </script>\n",
              "</div>\n",
              "    </div>\n",
              "  </div>\n"
            ]
          },
          "metadata": {},
          "execution_count": 3
        }
      ],
      "source": [
        "# read data\n",
        "DNA = pd.read_csv('Complete_DM_DNA_Sequence.csv')\n",
        "\n",
        "\n",
        "# see the sample from the dataset\n",
        "DNA.sample(5)"
      ]
    },
    {
      "cell_type": "code",
      "execution_count": null,
      "metadata": {
        "colab": {
          "base_uri": "https://localhost:8080/"
        },
        "id": "20gvj-_jx3Qw",
        "outputId": "8d03dee7-7476-4caf-912c-f3e3b16a1f99"
      },
      "outputs": [
        {
          "output_type": "execute_result",
          "data": {
            "text/plain": [
              "(1577, 3)"
            ]
          },
          "metadata": {},
          "execution_count": 4
        }
      ],
      "source": [
        "# shape of the dataset\n",
        "DNA.shape"
      ]
    },
    {
      "cell_type": "markdown",
      "metadata": {
        "id": "EFxzQlx2s-eJ"
      },
      "source": [
        "## Preprocessing DNA dataset\n",
        "here we will do preprocessing in the DNA sequence dataset (k-mers => bag-of-words => CountVectorizer and TF-IDF)"
      ]
    },
    {
      "cell_type": "markdown",
      "metadata": {
        "id": "amNP2OkYwJxR"
      },
      "source": [
        "### K-Mers"
      ]
    },
    {
      "cell_type": "code",
      "execution_count": null,
      "metadata": {
        "colab": {
          "base_uri": "https://localhost:8080/",
          "height": 206
        },
        "id": "trZfxoo1swvC",
        "outputId": "a4c3c2ae-4ace-4324-e3f7-31b476c4a169"
      },
      "outputs": [
        {
          "output_type": "execute_result",
          "data": {
            "text/plain": [
              "                                            sequence  \\\n",
              "0  AATAATTTGTGCACTTCAGAATATTCTACAATAATATATTATTTCC...   \n",
              "1  AGTCCTTCGCCGTCCCTCGCCGTCCTTCGCCATCGCACGCCACCGC...   \n",
              "2  AGTCCTTCGCCGTCCCTCGCCGTCCTTCGCCATCGCACGCCACCGC...   \n",
              "3  AGTTGGAGTCTCCAGGGATCAGGGTTCCAGGAACTCAGGATCTGCA...   \n",
              "4  AGTCCTTCGCCGTCCCTCGCCGTCCTTCGCCATCGCACGCCACCGC...   \n",
              "\n",
              "                                              k-mers  \n",
              "0  [aat, ata, taa, aat, att, ttt, ttg, tgt, gtg, ...  \n",
              "1  [agt, gtc, tcc, cct, ctt, ttc, tcg, cgc, gcc, ...  \n",
              "2  [agt, gtc, tcc, cct, ctt, ttc, tcg, cgc, gcc, ...  \n",
              "3  [agt, gtt, ttg, tgg, gga, gag, agt, gtc, tct, ...  \n",
              "4  [agt, gtc, tcc, cct, ctt, ttc, tcg, cgc, gcc, ...  "
            ],
            "text/html": [
              "\n",
              "  <div id=\"df-3016ee1e-017b-4cd5-afb2-f352a957c953\" class=\"colab-df-container\">\n",
              "    <div>\n",
              "<style scoped>\n",
              "    .dataframe tbody tr th:only-of-type {\n",
              "        vertical-align: middle;\n",
              "    }\n",
              "\n",
              "    .dataframe tbody tr th {\n",
              "        vertical-align: top;\n",
              "    }\n",
              "\n",
              "    .dataframe thead th {\n",
              "        text-align: right;\n",
              "    }\n",
              "</style>\n",
              "<table border=\"1\" class=\"dataframe\">\n",
              "  <thead>\n",
              "    <tr style=\"text-align: right;\">\n",
              "      <th></th>\n",
              "      <th>sequence</th>\n",
              "      <th>k-mers</th>\n",
              "    </tr>\n",
              "  </thead>\n",
              "  <tbody>\n",
              "    <tr>\n",
              "      <th>0</th>\n",
              "      <td>AATAATTTGTGCACTTCAGAATATTCTACAATAATATATTATTTCC...</td>\n",
              "      <td>[aat, ata, taa, aat, att, ttt, ttg, tgt, gtg, ...</td>\n",
              "    </tr>\n",
              "    <tr>\n",
              "      <th>1</th>\n",
              "      <td>AGTCCTTCGCCGTCCCTCGCCGTCCTTCGCCATCGCACGCCACCGC...</td>\n",
              "      <td>[agt, gtc, tcc, cct, ctt, ttc, tcg, cgc, gcc, ...</td>\n",
              "    </tr>\n",
              "    <tr>\n",
              "      <th>2</th>\n",
              "      <td>AGTCCTTCGCCGTCCCTCGCCGTCCTTCGCCATCGCACGCCACCGC...</td>\n",
              "      <td>[agt, gtc, tcc, cct, ctt, ttc, tcg, cgc, gcc, ...</td>\n",
              "    </tr>\n",
              "    <tr>\n",
              "      <th>3</th>\n",
              "      <td>AGTTGGAGTCTCCAGGGATCAGGGTTCCAGGAACTCAGGATCTGCA...</td>\n",
              "      <td>[agt, gtt, ttg, tgg, gga, gag, agt, gtc, tct, ...</td>\n",
              "    </tr>\n",
              "    <tr>\n",
              "      <th>4</th>\n",
              "      <td>AGTCCTTCGCCGTCCCTCGCCGTCCTTCGCCATCGCACGCCACCGC...</td>\n",
              "      <td>[agt, gtc, tcc, cct, ctt, ttc, tcg, cgc, gcc, ...</td>\n",
              "    </tr>\n",
              "  </tbody>\n",
              "</table>\n",
              "</div>\n",
              "    <div class=\"colab-df-buttons\">\n",
              "\n",
              "  <div class=\"colab-df-container\">\n",
              "    <button class=\"colab-df-convert\" onclick=\"convertToInteractive('df-3016ee1e-017b-4cd5-afb2-f352a957c953')\"\n",
              "            title=\"Convert this dataframe to an interactive table.\"\n",
              "            style=\"display:none;\">\n",
              "\n",
              "  <svg xmlns=\"http://www.w3.org/2000/svg\" height=\"24px\" viewBox=\"0 -960 960 960\">\n",
              "    <path d=\"M120-120v-720h720v720H120Zm60-500h600v-160H180v160Zm220 220h160v-160H400v160Zm0 220h160v-160H400v160ZM180-400h160v-160H180v160Zm440 0h160v-160H620v160ZM180-180h160v-160H180v160Zm440 0h160v-160H620v160Z\"/>\n",
              "  </svg>\n",
              "    </button>\n",
              "\n",
              "  <style>\n",
              "    .colab-df-container {\n",
              "      display:flex;\n",
              "      gap: 12px;\n",
              "    }\n",
              "\n",
              "    .colab-df-convert {\n",
              "      background-color: #E8F0FE;\n",
              "      border: none;\n",
              "      border-radius: 50%;\n",
              "      cursor: pointer;\n",
              "      display: none;\n",
              "      fill: #1967D2;\n",
              "      height: 32px;\n",
              "      padding: 0 0 0 0;\n",
              "      width: 32px;\n",
              "    }\n",
              "\n",
              "    .colab-df-convert:hover {\n",
              "      background-color: #E2EBFA;\n",
              "      box-shadow: 0px 1px 2px rgba(60, 64, 67, 0.3), 0px 1px 3px 1px rgba(60, 64, 67, 0.15);\n",
              "      fill: #174EA6;\n",
              "    }\n",
              "\n",
              "    .colab-df-buttons div {\n",
              "      margin-bottom: 4px;\n",
              "    }\n",
              "\n",
              "    [theme=dark] .colab-df-convert {\n",
              "      background-color: #3B4455;\n",
              "      fill: #D2E3FC;\n",
              "    }\n",
              "\n",
              "    [theme=dark] .colab-df-convert:hover {\n",
              "      background-color: #434B5C;\n",
              "      box-shadow: 0px 1px 3px 1px rgba(0, 0, 0, 0.15);\n",
              "      filter: drop-shadow(0px 1px 2px rgba(0, 0, 0, 0.3));\n",
              "      fill: #FFFFFF;\n",
              "    }\n",
              "  </style>\n",
              "\n",
              "    <script>\n",
              "      const buttonEl =\n",
              "        document.querySelector('#df-3016ee1e-017b-4cd5-afb2-f352a957c953 button.colab-df-convert');\n",
              "      buttonEl.style.display =\n",
              "        google.colab.kernel.accessAllowed ? 'block' : 'none';\n",
              "\n",
              "      async function convertToInteractive(key) {\n",
              "        const element = document.querySelector('#df-3016ee1e-017b-4cd5-afb2-f352a957c953');\n",
              "        const dataTable =\n",
              "          await google.colab.kernel.invokeFunction('convertToInteractive',\n",
              "                                                    [key], {});\n",
              "        if (!dataTable) return;\n",
              "\n",
              "        const docLinkHtml = 'Like what you see? Visit the ' +\n",
              "          '<a target=\"_blank\" href=https://colab.research.google.com/notebooks/data_table.ipynb>data table notebook</a>'\n",
              "          + ' to learn more about interactive tables.';\n",
              "        element.innerHTML = '';\n",
              "        dataTable['output_type'] = 'display_data';\n",
              "        await google.colab.output.renderOutput(dataTable, element);\n",
              "        const docLink = document.createElement('div');\n",
              "        docLink.innerHTML = docLinkHtml;\n",
              "        element.appendChild(docLink);\n",
              "      }\n",
              "    </script>\n",
              "  </div>\n",
              "\n",
              "\n",
              "<div id=\"df-adfac535-8c7b-42b7-8ff7-627be9e24b05\">\n",
              "  <button class=\"colab-df-quickchart\" onclick=\"quickchart('df-adfac535-8c7b-42b7-8ff7-627be9e24b05')\"\n",
              "            title=\"Suggest charts\"\n",
              "            style=\"display:none;\">\n",
              "\n",
              "<svg xmlns=\"http://www.w3.org/2000/svg\" height=\"24px\"viewBox=\"0 0 24 24\"\n",
              "     width=\"24px\">\n",
              "    <g>\n",
              "        <path d=\"M19 3H5c-1.1 0-2 .9-2 2v14c0 1.1.9 2 2 2h14c1.1 0 2-.9 2-2V5c0-1.1-.9-2-2-2zM9 17H7v-7h2v7zm4 0h-2V7h2v10zm4 0h-2v-4h2v4z\"/>\n",
              "    </g>\n",
              "</svg>\n",
              "  </button>\n",
              "\n",
              "<style>\n",
              "  .colab-df-quickchart {\n",
              "      --bg-color: #E8F0FE;\n",
              "      --fill-color: #1967D2;\n",
              "      --hover-bg-color: #E2EBFA;\n",
              "      --hover-fill-color: #174EA6;\n",
              "      --disabled-fill-color: #AAA;\n",
              "      --disabled-bg-color: #DDD;\n",
              "  }\n",
              "\n",
              "  [theme=dark] .colab-df-quickchart {\n",
              "      --bg-color: #3B4455;\n",
              "      --fill-color: #D2E3FC;\n",
              "      --hover-bg-color: #434B5C;\n",
              "      --hover-fill-color: #FFFFFF;\n",
              "      --disabled-bg-color: #3B4455;\n",
              "      --disabled-fill-color: #666;\n",
              "  }\n",
              "\n",
              "  .colab-df-quickchart {\n",
              "    background-color: var(--bg-color);\n",
              "    border: none;\n",
              "    border-radius: 50%;\n",
              "    cursor: pointer;\n",
              "    display: none;\n",
              "    fill: var(--fill-color);\n",
              "    height: 32px;\n",
              "    padding: 0;\n",
              "    width: 32px;\n",
              "  }\n",
              "\n",
              "  .colab-df-quickchart:hover {\n",
              "    background-color: var(--hover-bg-color);\n",
              "    box-shadow: 0 1px 2px rgba(60, 64, 67, 0.3), 0 1px 3px 1px rgba(60, 64, 67, 0.15);\n",
              "    fill: var(--button-hover-fill-color);\n",
              "  }\n",
              "\n",
              "  .colab-df-quickchart-complete:disabled,\n",
              "  .colab-df-quickchart-complete:disabled:hover {\n",
              "    background-color: var(--disabled-bg-color);\n",
              "    fill: var(--disabled-fill-color);\n",
              "    box-shadow: none;\n",
              "  }\n",
              "\n",
              "  .colab-df-spinner {\n",
              "    border: 2px solid var(--fill-color);\n",
              "    border-color: transparent;\n",
              "    border-bottom-color: var(--fill-color);\n",
              "    animation:\n",
              "      spin 1s steps(1) infinite;\n",
              "  }\n",
              "\n",
              "  @keyframes spin {\n",
              "    0% {\n",
              "      border-color: transparent;\n",
              "      border-bottom-color: var(--fill-color);\n",
              "      border-left-color: var(--fill-color);\n",
              "    }\n",
              "    20% {\n",
              "      border-color: transparent;\n",
              "      border-left-color: var(--fill-color);\n",
              "      border-top-color: var(--fill-color);\n",
              "    }\n",
              "    30% {\n",
              "      border-color: transparent;\n",
              "      border-left-color: var(--fill-color);\n",
              "      border-top-color: var(--fill-color);\n",
              "      border-right-color: var(--fill-color);\n",
              "    }\n",
              "    40% {\n",
              "      border-color: transparent;\n",
              "      border-right-color: var(--fill-color);\n",
              "      border-top-color: var(--fill-color);\n",
              "    }\n",
              "    60% {\n",
              "      border-color: transparent;\n",
              "      border-right-color: var(--fill-color);\n",
              "    }\n",
              "    80% {\n",
              "      border-color: transparent;\n",
              "      border-right-color: var(--fill-color);\n",
              "      border-bottom-color: var(--fill-color);\n",
              "    }\n",
              "    90% {\n",
              "      border-color: transparent;\n",
              "      border-bottom-color: var(--fill-color);\n",
              "    }\n",
              "  }\n",
              "</style>\n",
              "\n",
              "  <script>\n",
              "    async function quickchart(key) {\n",
              "      const quickchartButtonEl =\n",
              "        document.querySelector('#' + key + ' button');\n",
              "      quickchartButtonEl.disabled = true;  // To prevent multiple clicks.\n",
              "      quickchartButtonEl.classList.add('colab-df-spinner');\n",
              "      try {\n",
              "        const charts = await google.colab.kernel.invokeFunction(\n",
              "            'suggestCharts', [key], {});\n",
              "      } catch (error) {\n",
              "        console.error('Error during call to suggestCharts:', error);\n",
              "      }\n",
              "      quickchartButtonEl.classList.remove('colab-df-spinner');\n",
              "      quickchartButtonEl.classList.add('colab-df-quickchart-complete');\n",
              "    }\n",
              "    (() => {\n",
              "      let quickchartButtonEl =\n",
              "        document.querySelector('#df-adfac535-8c7b-42b7-8ff7-627be9e24b05 button');\n",
              "      quickchartButtonEl.style.display =\n",
              "        google.colab.kernel.accessAllowed ? 'block' : 'none';\n",
              "    })();\n",
              "  </script>\n",
              "</div>\n",
              "    </div>\n",
              "  </div>\n"
            ]
          },
          "metadata": {},
          "execution_count": 5
        }
      ],
      "source": [
        "# define k-mers function to split the sequence into group of k-mers words\n",
        "def getKmers(sequence, size=3):\n",
        "    return [sequence[x:x+size].lower() for x in range(len(sequence) - size + 1)]\n",
        "\n",
        "# apply the k-mers function\n",
        "DNA['k-mers'] = DNA.apply(lambda x: getKmers(x['sequence']), axis=1)\n",
        "DNA[['sequence','k-mers']].head()"
      ]
    },
    {
      "cell_type": "code",
      "execution_count": null,
      "metadata": {
        "colab": {
          "base_uri": "https://localhost:8080/"
        },
        "id": "x_efJEYXtnNi",
        "outputId": "fcc5e657-fa34-40d0-9a73-7fe9509fec83"
      },
      "outputs": [
        {
          "output_type": "stream",
          "name": "stdout",
          "text": [
            "DNA features samples : aat ata taa aat att ttt ttg tgt gtg tgc gca cac act ctt ttc tca cag aga gaa aat ata tat att ttc tct \n",
            "\n",
            "DNA targets samples :\n",
            "1048    NONDM\n",
            "240     NONDM\n",
            "502     NONDM\n",
            "1575     DMT2\n",
            "965      DMT2\n",
            "493     NONDM\n",
            "Name: class, dtype: object\n"
          ]
        }
      ],
      "source": [
        "# here we will split the data into 2 variables : features and targets\n",
        "# DNA features\n",
        "DNA_features = list(DNA['k-mers'])\n",
        "for item in range(len(DNA_features)):\n",
        "    DNA_features[item] = ' '.join(DNA_features[item])\n",
        "print(f'DNA features samples : {DNA_features[0][0:100]}')\n",
        "print('')\n",
        "\n",
        "# DNA targets\n",
        "DNA_targets = DNA['class'].copy()\n",
        "print(f'DNA targets samples :')\n",
        "print(f'{DNA_targets.sample(6)}')"
      ]
    },
    {
      "cell_type": "markdown",
      "metadata": {
        "id": "VrZsOUrMwMG8"
      },
      "source": [
        "### CountVectorizer"
      ]
    },
    {
      "cell_type": "code",
      "execution_count": null,
      "metadata": {
        "colab": {
          "base_uri": "https://localhost:8080/"
        },
        "id": "7QUUSMF8uejc",
        "outputId": "59b4bdee-fdd0-47c0-be8a-8fb0f5c27528"
      },
      "outputs": [
        {
          "output_type": "execute_result",
          "data": {
            "text/plain": [
              "array([[0.02111515, 0.02265444, 0.        , ..., 0.        , 0.        ,\n",
              "        0.        ],\n",
              "       [0.        , 0.        , 0.        , ..., 0.02139286, 0.02102997,\n",
              "        0.        ],\n",
              "       [0.        , 0.        , 0.        , ..., 0.02144778, 0.02108395,\n",
              "        0.        ],\n",
              "       [0.        , 0.        , 0.        , ..., 0.        , 0.        ,\n",
              "        0.        ],\n",
              "       [0.        , 0.        , 0.        , ..., 0.02142592, 0.02106247,\n",
              "        0.        ]])"
            ]
          },
          "metadata": {},
          "execution_count": 7
        }
      ],
      "source": [
        "# transform the k-mers sequences using CountVectorizer and bag-of-words = 4\n",
        "# cv = CountVectorizer(ngram_range=(4,4))\n",
        "# cv = CountVectorizer()\n",
        "cv = TfidfVectorizer(ngram_range=(4,4))\n",
        "\n",
        "DNA_features_CV = cv.fit_transform(DNA_features)\n",
        "\n",
        "# samples\n",
        "DNA_features_CV[0:5].toarray()"
      ]
    },
    {
      "cell_type": "code",
      "execution_count": null,
      "metadata": {
        "colab": {
          "base_uri": "https://localhost:8080/"
        },
        "id": "HcUpzOKrwjlS",
        "outputId": "27457ad5-9e70-4778-a9e1-c1c7cab7ec0f"
      },
      "outputs": [
        {
          "output_type": "stream",
          "name": "stdout",
          "text": [
            "the features after using bag-of-words is 4096\n",
            "\n",
            "0-25 features name : ['aaa aaa aaa aaa' 'aaa aaa aaa aac' 'aaa aaa aaa aag' 'aaa aaa aaa aat'\n",
            " 'aaa aaa aac aca' 'aaa aaa aac acc' 'aaa aaa aac acg' 'aaa aaa aac act'\n",
            " 'aaa aaa aag aga' 'aaa aaa aag agc' 'aaa aaa aag agg' 'aaa aaa aag agt'\n",
            " 'aaa aaa aat ata' 'aaa aaa aat atc' 'aaa aaa aat atg' 'aaa aaa aat att'\n",
            " 'aaa aac aca caa' 'aaa aac aca cac' 'aaa aac aca cag' 'aaa aac aca cat'\n",
            " 'aaa aac acc cca' 'aaa aac acc ccc' 'aaa aac acc ccg' 'aaa aac acc cct'\n",
            " 'aaa aac acg cga']\n"
          ]
        }
      ],
      "source": [
        "# see the length of the feature\n",
        "print(f'the features after using bag-of-words is {DNA_features_CV.shape[1]}')\n",
        "print('')\n",
        "\n",
        "# see the 0-25 features name\n",
        "print(f'0-25 features name : {cv.get_feature_names_out()[0:25]}')"
      ]
    },
    {
      "cell_type": "markdown",
      "metadata": {
        "id": "f9MX3EcwzRfP"
      },
      "source": [
        "### Transform DNA targets to Numeric"
      ]
    },
    {
      "cell_type": "code",
      "execution_count": null,
      "metadata": {
        "colab": {
          "base_uri": "https://localhost:8080/"
        },
        "id": "Dab8pLoIy420",
        "outputId": "33399d8e-a444-4605-c816-7278f226bc72"
      },
      "outputs": [
        {
          "output_type": "execute_result",
          "data": {
            "text/plain": [
              "array([1, 1, 1, ..., 0, 1, 1])"
            ]
          },
          "metadata": {},
          "execution_count": 9
        }
      ],
      "source": [
        "le = LabelEncoder()\n",
        "DNA_targets = le.fit_transform(DNA_targets)\n",
        "DNA_targets"
      ]
    },
    {
      "cell_type": "markdown",
      "metadata": {
        "id": "_PbRzsL8yG6s"
      },
      "source": [
        "### Oversampling the Data\n",
        "since the dataset we have is still imbalanced"
      ]
    },
    {
      "cell_type": "code",
      "execution_count": null,
      "metadata": {
        "id": "EIBKxLrjxYny"
      },
      "outputs": [],
      "source": [
        "# oversample the data using SMOTE\n",
        "sm = SMOTE(random_state=42, sampling_strategy='not majority')\n",
        "DNA_features_oversampled, DNA_targets_oversampled = sm.fit_resample(DNA_features_CV, DNA_targets)"
      ]
    },
    {
      "cell_type": "code",
      "execution_count": null,
      "metadata": {
        "colab": {
          "base_uri": "https://localhost:8080/",
          "height": 472
        },
        "id": "3RfDA1ddyeTp",
        "outputId": "633d95a9-8138-41ab-95ea-e966f87a38a7"
      },
      "outputs": [
        {
          "output_type": "display_data",
          "data": {
            "text/plain": [
              "<Figure size 640x480 with 1 Axes>"
            ],
            "image/png": "[encoded data removed]"
          },
          "metadata": {}
        }
      ],
      "source": [
        "# plot the DNA targets\n",
        "targets = pd.DataFrame(DNA_targets_oversampled)\n",
        "sns.countplot(targets, x=0)\n",
        "plt.title('targetted class size')\n",
        "plt.xlabel('class')\n",
        "plt.ylabel('frequency')\n",
        "plt.show()"
      ]
    },
    {
      "cell_type": "markdown",
      "metadata": {
        "id": "R1pD5ZvozX62"
      },
      "source": [
        "### Split the Dataset into train and test data\n",
        "here we will split the data into 80% training data and 20% test data"
      ]
    },
    {
      "cell_type": "code",
      "execution_count": null,
      "metadata": {
        "id": "WVVlxiagzeGc"
      },
      "outputs": [],
      "source": [
        "# split data again\n",
        "from sklearn.model_selection import train_test_split\n",
        "X_train, X_test, y_train, y_test = train_test_split(DNA_features_oversampled, DNA_targets_oversampled, test_size = 0.20, random_state=42)"
      ]
    },
    {
      "cell_type": "markdown",
      "metadata": {
        "id": "_0748C5t0CwX"
      },
      "source": [
        "## Machine Learning Process"
      ]
    },
    {
      "cell_type": "markdown",
      "metadata": {
        "id": "ExfbE1kAeD41"
      },
      "source": [
        "### NuSVC"
      ]
    },
    {
      "cell_type": "code",
      "execution_count": null,
      "metadata": {
        "colab": {
          "background_save": true,
          "base_uri": "https://localhost:8080/"
        },
        "id": "Uxq8SdiheFcP",
        "outputId": "5aef447c-a55f-458a-db98-7d2b15f7f105"
      },
      "outputs": [
        {
          "name": "stdout",
          "output_type": "stream",
          "text": [
            "Fitting 3 folds for each of 18 candidates, totalling 54 fits\n",
            "[CV 1/3] END ..gamma=0.1, kernel=linear, nu=0.1;, score=0.922 total time=  39.0s\n",
            "[CV 2/3] END ..gamma=0.1, kernel=linear, nu=0.1;, score=0.914 total time=  39.5s\n",
            "[CV 3/3] END ..gamma=0.1, kernel=linear, nu=0.1;, score=0.934 total time=  38.5s\n",
            "[CV 1/3] END ..gamma=0.1, kernel=linear, nu=0.5;, score=0.895 total time= 1.2min\n",
            "[CV 2/3] END ..gamma=0.1, kernel=linear, nu=0.5;, score=0.885 total time= 1.2min\n",
            "[CV 3/3] END ..gamma=0.1, kernel=linear, nu=0.5;, score=0.898 total time= 1.2min\n",
            "[CV 1/3] END ..gamma=0.1, kernel=linear, nu=0.9;, score=0.655 total time= 1.5min\n",
            "[CV 2/3] END ..gamma=0.1, kernel=linear, nu=0.9;, score=0.613 total time= 1.5min\n",
            "[CV 3/3] END ..gamma=0.1, kernel=linear, nu=0.9;, score=0.699 total time= 1.5min\n",
            "[CV 1/3] END .....gamma=0.1, kernel=rbf, nu=0.1;, score=0.923 total time=  37.7s\n",
            "[CV 2/3] END .....gamma=0.1, kernel=rbf, nu=0.1;, score=0.918 total time=  38.2s\n",
            "[CV 3/3] END .....gamma=0.1, kernel=rbf, nu=0.1;, score=0.934 total time=  38.5s\n",
            "[CV 1/3] END .....gamma=0.1, kernel=rbf, nu=0.5;, score=0.903 total time= 1.2min\n",
            "[CV 2/3] END .....gamma=0.1, kernel=rbf, nu=0.5;, score=0.890 total time= 1.2min\n",
            "[CV 3/3] END .....gamma=0.1, kernel=rbf, nu=0.5;, score=0.905 total time= 1.2min\n",
            "[CV 1/3] END .....gamma=0.1, kernel=rbf, nu=0.9;, score=0.655 total time= 1.6min\n",
            "[CV 2/3] END .....gamma=0.1, kernel=rbf, nu=0.9;, score=0.616 total time= 1.6min\n",
            "[CV 3/3] END .....gamma=0.1, kernel=rbf, nu=0.9;, score=0.707 total time= 1.6min\n",
            "[CV 1/3] END ....gamma=0.1, kernel=poly, nu=0.1;, score=0.831 total time=  14.9s\n",
            "[CV 2/3] END ....gamma=0.1, kernel=poly, nu=0.1;, score=0.800 total time=  15.2s\n",
            "[CV 3/3] END ....gamma=0.1, kernel=poly, nu=0.1;, score=0.861 total time=  15.1s\n",
            "[CV 1/3] END ....gamma=0.1, kernel=poly, nu=0.5;, score=0.882 total time= 1.0min\n",
            "[CV 2/3] END ....gamma=0.1, kernel=poly, nu=0.5;, score=0.886 total time= 1.0min\n",
            "[CV 3/3] END ....gamma=0.1, kernel=poly, nu=0.5;, score=0.910 total time= 1.0min\n",
            "[CV 1/3] END ....gamma=0.1, kernel=poly, nu=0.9;, score=0.710 total time= 1.5min\n",
            "[CV 2/3] END ....gamma=0.1, kernel=poly, nu=0.9;, score=0.675 total time= 1.5min\n",
            "[CV 3/3] END ....gamma=0.1, kernel=poly, nu=0.9;, score=0.728 total time= 1.5min\n",
            "[CV 1/3] END .gamma=0.01, kernel=linear, nu=0.1;, score=0.922 total time=  37.9s\n",
            "[CV 2/3] END .gamma=0.01, kernel=linear, nu=0.1;, score=0.914 total time=  37.6s\n",
            "[CV 3/3] END .gamma=0.01, kernel=linear, nu=0.1;, score=0.934 total time=  37.0s\n",
            "[CV 1/3] END .gamma=0.01, kernel=linear, nu=0.5;, score=0.895 total time= 1.2min\n",
            "[CV 2/3] END .gamma=0.01, kernel=linear, nu=0.5;, score=0.885 total time= 1.2min\n",
            "[CV 3/3] END .gamma=0.01, kernel=linear, nu=0.5;, score=0.898 total time= 1.2min\n",
            "[CV 1/3] END .gamma=0.01, kernel=linear, nu=0.9;, score=0.655 total time= 1.5min\n",
            "[CV 2/3] END .gamma=0.01, kernel=linear, nu=0.9;, score=0.613 total time= 1.5min\n",
            "[CV 3/3] END .gamma=0.01, kernel=linear, nu=0.9;, score=0.699 total time= 1.5min\n",
            "[CV 1/3] END ....gamma=0.01, kernel=rbf, nu=0.1;, score=0.923 total time=  31.9s\n",
            "[CV 2/3] END ....gamma=0.01, kernel=rbf, nu=0.1;, score=0.915 total time=  31.9s\n",
            "[CV 3/3] END ....gamma=0.01, kernel=rbf, nu=0.1;, score=0.937 total time=  32.6s\n",
            "[CV 1/3] END ....gamma=0.01, kernel=rbf, nu=0.5;, score=0.895 total time= 1.2min\n",
            "[CV 2/3] END ....gamma=0.01, kernel=rbf, nu=0.5;, score=0.886 total time= 1.2min\n",
            "[CV 3/3] END ....gamma=0.01, kernel=rbf, nu=0.5;, score=0.899 total time= 1.2min\n",
            "[CV 1/3] END ....gamma=0.01, kernel=rbf, nu=0.9;, score=0.655 total time= 1.6min\n",
            "[CV 2/3] END ....gamma=0.01, kernel=rbf, nu=0.9;, score=0.614 total time= 1.6min\n",
            "[CV 3/3] END ....gamma=0.01, kernel=rbf, nu=0.9;, score=0.699 total time= 1.6min\n",
            "[CV 1/3] END ...gamma=0.01, kernel=poly, nu=0.1;, score=0.628 total time=   9.7s\n",
            "[CV 2/3] END ...gamma=0.01, kernel=poly, nu=0.1;, score=0.647 total time=  10.0s\n",
            "[CV 3/3] END ...gamma=0.01, kernel=poly, nu=0.1;, score=0.647 total time=   9.2s\n",
            "[CV 1/3] END ...gamma=0.01, kernel=poly, nu=0.5;, score=0.632 total time=  46.7s\n",
            "[CV 2/3] END ...gamma=0.01, kernel=poly, nu=0.5;, score=0.518 total time=  46.5s\n",
            "[CV 3/3] END ...gamma=0.01, kernel=poly, nu=0.5;, score=0.695 total time=  46.8s\n",
            "[CV 1/3] END ...gamma=0.01, kernel=poly, nu=0.9;, score=0.571 total time= 1.4min\n",
            "[CV 2/3] END ...gamma=0.01, kernel=poly, nu=0.9;, score=0.494 total time= 1.4min\n",
            "[CV 3/3] END ...gamma=0.01, kernel=poly, nu=0.9;, score=0.501 total time= 1.4min\n"
          ]
        },
        {
          "data": {
            "text/plain": [
              "{'gamma': 0.1, 'kernel': 'rbf', 'nu': 0.1}"
            ]
          },
          "execution_count": 45,
          "metadata": {},
          "output_type": "execute_result"
        }
      ],
      "source": [
        "# from sklearn.svm import NuSVC\n",
        "# from sklearn.model_selection import GridSearchCV\n",
        "\n",
        "# # defining parameter range\n",
        "# param_grid = {'nu': [0.1, 0.5, 0.9],\n",
        "#                'gamma': [0.1, 0.01],\n",
        "#                'kernel' : ['linear', 'rbf', 'poly']}\n",
        "\n",
        "# grid = GridSearchCV(NuSVC(), param_grid, refit = True, verbose = 3, cv = 3)\n",
        "\n",
        "# # fitting the model for grid search\n",
        "# grid.fit(X_train, y_train)\n",
        "# grid.best_params_"
      ]
    },
    {
      "cell_type": "code",
      "execution_count": null,
      "metadata": {
        "colab": {
          "base_uri": "https://localhost:8080/"
        },
        "id": "9L7f732x75J2",
        "outputId": "0b68c227-10f6-4258-b6d5-9eabaae12863"
      },
      "outputs": [
        {
          "output_type": "stream",
          "name": "stdout",
          "text": [
            "              precision    recall  f1-score   support\n",
            "\n",
            "           0       0.88      0.97      0.93       192\n",
            "           1       0.95      0.86      0.90       187\n",
            "           2       0.98      0.97      0.98       215\n",
            "\n",
            "    accuracy                           0.94       594\n",
            "   macro avg       0.94      0.93      0.93       594\n",
            "weighted avg       0.94      0.94      0.94       594\n",
            "\n"
          ]
        }
      ],
      "source": [
        "from sklearn.svm import NuSVC\n",
        "cf = NuSVC(nu=0.3, gamma=0.1, kernel='linear')\n",
        "cf.fit(X_train,y_train)\n",
        "predicted = cf.predict(X_test)\n",
        "print(classification_report(y_test, predicted))"
      ]
    },
    {
      "cell_type": "code",
      "execution_count": null,
      "metadata": {
        "colab": {
          "base_uri": "https://localhost:8080/"
        },
        "id": "WRslh7_X5Jbr",
        "outputId": "2ff4997b-8dfb-497a-afac-63bbd3976413"
      },
      "outputs": [
        {
          "output_type": "stream",
          "name": "stdout",
          "text": [
            "              precision    recall  f1-score   support\n",
            "\n",
            "           0       0.88      0.99      0.93       192\n",
            "           1       0.96      0.87      0.91       187\n",
            "           2       1.00      0.96      0.98       215\n",
            "\n",
            "    accuracy                           0.94       594\n",
            "   macro avg       0.95      0.94      0.94       594\n",
            "weighted avg       0.95      0.94      0.94       594\n",
            "\n"
          ]
        }
      ],
      "source": [
        "from sklearn.svm import NuSVC\n",
        "cf = NuSVC(nu=0.1, gamma=0.1, kernel='linear')\n",
        "cf.fit(X_train,y_train)\n",
        "predicted = cf.predict(X_test)\n",
        "print(classification_report(y_test, predicted))"
      ]
    },
    {
      "cell_type": "code",
      "execution_count": null,
      "metadata": {
        "id": "8uK1V0Rz-pIx",
        "colab": {
          "base_uri": "https://localhost:8080/",
          "height": 568
        },
        "outputId": "84a599cc-1980-4127-9adb-b2568ce7b6db"
      },
      "outputs": [
        {
          "output_type": "display_data",
          "data": {
            "text/plain": [
              "<Figure size 800x550 with 1 Axes>"
            ],
            "image/png": "[encoded data removed]"
          },
          "metadata": {}
        },
        {
          "output_type": "execute_result",
          "data": {
            "text/plain": [
              "<Axes: title={'center': 'NuSVC Confusion Matrix'}, xlabel='Predicted Class', ylabel='True Class'>"
            ]
          },
          "metadata": {},
          "execution_count": 18
        }
      ],
      "source": [
        "# evaluation\n",
        "from yellowbrick.classifier import ConfusionMatrix\n",
        "from yellowbrick.classifier import ClassPredictionError\n",
        "from yellowbrick.classifier import ROCAUC\n",
        "from yellowbrick.style import set_palette\n",
        "\n",
        "cfmatrix = ConfusionMatrix(cf)\n",
        "\n",
        "cfmatrix.fit(X_train, y_train)\n",
        "cfmatrix.score(X_test, y_test)\n",
        "cfmatrix.show()"
      ]
    },
    {
      "cell_type": "code",
      "execution_count": null,
      "metadata": {
        "id": "PgSmV06aVHQp",
        "colab": {
          "base_uri": "https://localhost:8080/"
        },
        "outputId": "c1874c99-e391-4576-b09c-1811a7bde80e"
      },
      "outputs": [
        {
          "output_type": "stream",
          "name": "stdout",
          "text": [
            "Accuracy: 0.9410774410774411\n",
            "Accuracy: 0.9377104377104377\n",
            "Accuracy: 0.9325463743676222\n",
            "Accuracy: 0.9426644182124789\n",
            "Accuracy: 0.9359190556492412\n",
            "Accuracy: 0.9377104377104377\n",
            "Accuracy: 0.9208754208754208\n",
            "Accuracy: 0.9510961214165261\n",
            "Accuracy: 0.9409780775716695\n",
            "Accuracy: 0.93929173693086\n",
            "Accuracy: 0.9175084175084175\n",
            "Accuracy: 0.9292929292929293\n",
            "Accuracy: 0.93929173693086\n",
            "Accuracy: 0.9359190556492412\n",
            "Accuracy: 0.9443507588532883\n",
            "0.936415494650458\n"
          ]
        }
      ],
      "source": [
        "from sklearn.svm import NuSVC\n",
        "from sklearn.model_selection import RepeatedStratifiedKFold\n",
        "from sklearn.metrics import accuracy_score\n",
        "\n",
        "# Assuming you have your dataset X and labels y\n",
        "\n",
        "# Specify the number of splits and repeats\n",
        "n_splits = 5  # Number of folds\n",
        "n_repeats = 3  # Number of repeats\n",
        "\n",
        "# Specify NuSVC parameters\n",
        "gamma_value = 0.1\n",
        "nu_value = 0.1\n",
        "\n",
        "# Create a RepeatedStratifiedKFold object\n",
        "rskf = RepeatedStratifiedKFold(n_splits=n_splits, n_repeats=n_repeats, random_state=42)\n",
        "\n",
        "# Initialize NuSVC with linear kernel and specified parameters\n",
        "model = NuSVC(kernel='linear', gamma=gamma_value, nu=nu_value)\n",
        "\n",
        "acc = []\n",
        "\n",
        "# Perform repeated stratified cross-validation\n",
        "for train_index, test_index in rskf.split(DNA_features_oversampled, DNA_targets_oversampled):\n",
        "    X_train, X_test = DNA_features_oversampled[train_index], DNA_features_oversampled[test_index]\n",
        "    y_train, y_test = DNA_targets_oversampled[train_index], DNA_targets_oversampled[test_index]\n",
        "\n",
        "    # Train the NuSVC model\n",
        "    model.fit(X_train, y_train)\n",
        "\n",
        "    # Make predictions on the test set\n",
        "    predictions = model.predict(X_test)\n",
        "\n",
        "    # Evaluate accuracy\n",
        "    accuracy = accuracy_score(y_test, predictions)\n",
        "    acc.append(accuracy)\n",
        "    print(\"Accuracy:\", accuracy)\n",
        "\n",
        "print(np.mean(acc))"
      ]
    },
    {
      "cell_type": "code",
      "source": [
        "# Plotting the accuracy scores\n",
        "plt.plot(range(1, len(acc) + 1), acc, marker='o')\n",
        "plt.title('Cross-Validation Accuracy Scores')\n",
        "plt.xlabel('Fold')\n",
        "plt.ylabel('Accuracy Score')\n",
        "plt.show()"
      ],
      "metadata": {
        "colab": {
          "base_uri": "https://localhost:8080/",
          "height": 524
        },
        "id": "7FvvkcuhgUef",
        "outputId": "1b00badd-3449-41e4-d1ea-f6b58ffc7abb"
      },
      "execution_count": null,
      "outputs": [
        {
          "output_type": "display_data",
          "data": {
            "text/plain": [
              "<Figure size 800x550 with 1 Axes>"
            ],
            "image/png": "[encoded data removed]"
          },
          "metadata": {}
        }
      ]
    },
    {
      "cell_type": "markdown",
      "metadata": {
        "id": "JYQKfQLf0JBq"
      },
      "source": [
        "### Train the Data"
      ]
    },
    {
      "cell_type": "code",
      "execution_count": null,
      "metadata": {
        "colab": {
          "base_uri": "https://localhost:8080/",
          "height": 248
        },
        "id": "P71kylLq0Hly",
        "outputId": "dad067f4-9d71-4b0b-a89c-7512aa0e2075"
      },
      "outputs": [
        {
          "data": {
            "text/html": [
              "<style>#sk-container-id-1 {color: black;background-color: white;}#sk-container-id-1 pre{padding: 0;}#sk-container-id-1 div.sk-toggleable {background-color: white;}#sk-container-id-1 label.sk-toggleable__label {cursor: pointer;display: block;width: 100%;margin-bottom: 0;padding: 0.3em;box-sizing: border-box;text-align: center;}#sk-container-id-1 label.sk-toggleable__label-arrow:before {content: \"▸\";float: left;margin-right: 0.25em;color: #696969;}#sk-container-id-1 label.sk-toggleable__label-arrow:hover:before {color: black;}#sk-container-id-1 div.sk-estimator:hover label.sk-toggleable__label-arrow:before {color: black;}#sk-container-id-1 div.sk-toggleable__content {max-height: 0;max-width: 0;overflow: hidden;text-align: left;background-color: #f0f8ff;}#sk-container-id-1 div.sk-toggleable__content pre {margin: 0.2em;color: black;border-radius: 0.25em;background-color: #f0f8ff;}#sk-container-id-1 input.sk-toggleable__control:checked~div.sk-toggleable__content {max-height: 200px;max-width: 100%;overflow: auto;}#sk-container-id-1 input.sk-toggleable__control:checked~label.sk-toggleable__label-arrow:before {content: \"▾\";}#sk-container-id-1 div.sk-estimator input.sk-toggleable__control:checked~label.sk-toggleable__label {background-color: #d4ebff;}#sk-container-id-1 div.sk-label input.sk-toggleable__control:checked~label.sk-toggleable__label {background-color: #d4ebff;}#sk-container-id-1 input.sk-hidden--visually {border: 0;clip: rect(1px 1px 1px 1px);clip: rect(1px, 1px, 1px, 1px);height: 1px;margin: -1px;overflow: hidden;padding: 0;position: absolute;width: 1px;}#sk-container-id-1 div.sk-estimator {font-family: monospace;background-color: #f0f8ff;border: 1px dotted black;border-radius: 0.25em;box-sizing: border-box;margin-bottom: 0.5em;}#sk-container-id-1 div.sk-estimator:hover {background-color: #d4ebff;}#sk-container-id-1 div.sk-parallel-item::after {content: \"\";width: 100%;border-bottom: 1px solid gray;flex-grow: 1;}#sk-container-id-1 div.sk-label:hover label.sk-toggleable__label {background-color: #d4ebff;}#sk-container-id-1 div.sk-serial::before {content: \"\";position: absolute;border-left: 1px solid gray;box-sizing: border-box;top: 0;bottom: 0;left: 50%;z-index: 0;}#sk-container-id-1 div.sk-serial {display: flex;flex-direction: column;align-items: center;background-color: white;padding-right: 0.2em;padding-left: 0.2em;position: relative;}#sk-container-id-1 div.sk-item {position: relative;z-index: 1;}#sk-container-id-1 div.sk-parallel {display: flex;align-items: stretch;justify-content: center;background-color: white;position: relative;}#sk-container-id-1 div.sk-item::before, #sk-container-id-1 div.sk-parallel-item::before {content: \"\";position: absolute;border-left: 1px solid gray;box-sizing: border-box;top: 0;bottom: 0;left: 50%;z-index: -1;}#sk-container-id-1 div.sk-parallel-item {display: flex;flex-direction: column;z-index: 1;position: relative;background-color: white;}#sk-container-id-1 div.sk-parallel-item:first-child::after {align-self: flex-end;width: 50%;}#sk-container-id-1 div.sk-parallel-item:last-child::after {align-self: flex-start;width: 50%;}#sk-container-id-1 div.sk-parallel-item:only-child::after {width: 0;}#sk-container-id-1 div.sk-dashed-wrapped {border: 1px dashed gray;margin: 0 0.4em 0.5em 0.4em;box-sizing: border-box;padding-bottom: 0.4em;background-color: white;}#sk-container-id-1 div.sk-label label {font-family: monospace;font-weight: bold;display: inline-block;line-height: 1.2em;}#sk-container-id-1 div.sk-label-container {text-align: center;}#sk-container-id-1 div.sk-container {/* jupyter's `normalize.less` sets `[hidden] { display: none; }` but bootstrap.min.css set `[hidden] { display: none !important; }` so we also need the `!important` here to be able to override the default hidden behavior on the sphinx rendered scikit-learn.org. See: https://github.com/scikit-learn/scikit-learn/issues/21755 */display: inline-block !important;position: relative;}#sk-container-id-1 div.sk-text-repr-fallback {display: none;}</style><div id=\"sk-container-id-1\" class=\"sk-top-container\"><div class=\"sk-text-repr-fallback\"><pre>XGBClassifier(base_score=None, booster=None, callbacks=None,\n",
              "              colsample_bylevel=0.6, colsample_bynode=None,\n",
              "              colsample_bytree=0.6, device=None, early_stopping_rounds=None,\n",
              "              enable_categorical=False, eval_metric=&#x27;mlogloss&#x27;,\n",
              "              feature_types=None, gamma=None, grow_policy=None,\n",
              "              importance_type=None, interaction_constraints=None,\n",
              "              learning_rate=0.01, max_bin=None, max_cat_threshold=None,\n",
              "              max_cat_to_onehot=None, max_delta_step=None, max_depth=15,\n",
              "              max_leaves=None, min_child_weight=None, missing=nan,\n",
              "              monotone_constraints=None, multi_strategy=None, n_estimators=250,\n",
              "              n_jobs=None, num_class=3, num_parallel_tree=None, ...)</pre><b>In a Jupyter environment, please rerun this cell to show the HTML representation or trust the notebook. <br />On GitHub, the HTML representation is unable to render, please try loading this page with nbviewer.org.</b></div><div class=\"sk-container\" hidden><div class=\"sk-item\"><div class=\"sk-estimator sk-toggleable\"><input class=\"sk-toggleable__control sk-hidden--visually\" id=\"sk-estimator-id-1\" type=\"checkbox\" checked><label for=\"sk-estimator-id-1\" class=\"sk-toggleable__label sk-toggleable__label-arrow\">XGBClassifier</label><div class=\"sk-toggleable__content\"><pre>XGBClassifier(base_score=None, booster=None, callbacks=None,\n",
              "              colsample_bylevel=0.6, colsample_bynode=None,\n",
              "              colsample_bytree=0.6, device=None, early_stopping_rounds=None,\n",
              "              enable_categorical=False, eval_metric=&#x27;mlogloss&#x27;,\n",
              "              feature_types=None, gamma=None, grow_policy=None,\n",
              "              importance_type=None, interaction_constraints=None,\n",
              "              learning_rate=0.01, max_bin=None, max_cat_threshold=None,\n",
              "              max_cat_to_onehot=None, max_delta_step=None, max_depth=15,\n",
              "              max_leaves=None, min_child_weight=None, missing=nan,\n",
              "              monotone_constraints=None, multi_strategy=None, n_estimators=250,\n",
              "              n_jobs=None, num_class=3, num_parallel_tree=None, ...)</pre></div></div></div></div></div>"
            ],
            "text/plain": [
              "XGBClassifier(base_score=None, booster=None, callbacks=None,\n",
              "              colsample_bylevel=0.6, colsample_bynode=None,\n",
              "              colsample_bytree=0.6, device=None, early_stopping_rounds=None,\n",
              "              enable_categorical=False, eval_metric='mlogloss',\n",
              "              feature_types=None, gamma=None, grow_policy=None,\n",
              "              importance_type=None, interaction_constraints=None,\n",
              "              learning_rate=0.01, max_bin=None, max_cat_threshold=None,\n",
              "              max_cat_to_onehot=None, max_delta_step=None, max_depth=15,\n",
              "              max_leaves=None, min_child_weight=None, missing=nan,\n",
              "              monotone_constraints=None, multi_strategy=None, n_estimators=250,\n",
              "              n_jobs=None, num_class=3, num_parallel_tree=None, ...)"
            ]
          },
          "execution_count": 14,
          "metadata": {},
          "output_type": "execute_result"
        }
      ],
      "source": [
        "# Using XGBoost\n",
        "# model = XGBClassifier(use_label_encoder=False, eval_metric='mlogloss')\n",
        "model = XGBClassifier(\n",
        "    objective=\"multi:softmax\",\n",
        "    tree_method='hist',\n",
        "    subsample=0.7,\n",
        "    num_class=3,\n",
        "    n_estimators=250,\n",
        "    max_depth=15,\n",
        "    learning_rate=0.01,\n",
        "    colsample_bytree=0.6,\n",
        "    colsample_bylevel=0.6,\n",
        "    eval_metric='mlogloss')\n",
        "model.fit(X_train, y_train)"
      ]
    },
    {
      "cell_type": "code",
      "execution_count": null,
      "metadata": {
        "colab": {
          "base_uri": "https://localhost:8080/"
        },
        "id": "rUpta3GCPkLq",
        "outputId": "8c64b82b-f056-4789-a3d0-9483104b6e3d"
      },
      "outputs": [
        {
          "name": "stdout",
          "output_type": "stream",
          "text": [
            "              precision    recall  f1-score   support\n",
            "\n",
            "           0       0.89      0.93      0.91       192\n",
            "           1       0.94      0.81      0.87       187\n",
            "           2       0.92      1.00      0.96       215\n",
            "\n",
            "    accuracy                           0.92       594\n",
            "   macro avg       0.92      0.91      0.91       594\n",
            "weighted avg       0.92      0.92      0.91       594\n",
            "\n"
          ]
        }
      ],
      "source": [
        "predicted = model.predict(X_test)\n",
        "print(classification_report(y_test, predicted))"
      ]
    },
    {
      "cell_type": "code",
      "execution_count": null,
      "metadata": {
        "colab": {
          "base_uri": "https://localhost:8080/",
          "height": 215
        },
        "id": "fIkSR4E3QP-i",
        "outputId": "88254c6d-bed5-416f-eddb-8c8a46c160a7"
      },
      "outputs": [
        {
          "data": {
            "image/png": "[encoded data removed]",
            "text/plain": [
              "<Figure size 640x480 with 1 Axes>"
            ]
          },
          "metadata": {},
          "output_type": "display_data"
        }
      ],
      "source": [
        "from xgboost import plot_tree\n",
        "# plot_tree(model, num_trees=3, rankdir='LR')\n",
        "# plot_tree(model)\n",
        "plot_tree(model, num_trees=0)\n",
        "plt.rcParams['figure.figsize']=[5, 10]\n",
        "plt.show()"
      ]
    },
    {
      "cell_type": "code",
      "execution_count": null,
      "metadata": {
        "id": "pVi84hSr6KxV"
      },
      "outputs": [],
      "source": []
    },
    {
      "cell_type": "code",
      "execution_count": null,
      "metadata": {
        "id": "TYkYibKx4zO3"
      },
      "outputs": [],
      "source": [
        "from sklearn.model_selection import GridSearchCV\n",
        "from sklearn import model_selection, naive_bayes, svm\n",
        "\n",
        "Naive = naive_bayes.MultinomialNB(alpha=1e-05)\n",
        "Naive.fit(X_train,y_train)\n",
        "# predict the labels on validation dataset\n",
        "predictions_NB = Naive.predict(X_test)"
      ]
    },
    {
      "cell_type": "code",
      "execution_count": null,
      "metadata": {
        "colab": {
          "base_uri": "https://localhost:8080/"
        },
        "id": "bdHq7cMLAmfy",
        "outputId": "7ab8c895-d54f-4d08-d1df-ae2d5caad058"
      },
      "outputs": [
        {
          "data": {
            "text/plain": [
              "{'alpha': 1e-05}"
            ]
          },
          "execution_count": 19,
          "metadata": {},
          "output_type": "execute_result"
        }
      ],
      "source": [
        "\n",
        "param={'alpha': [0.00001, 0.0001, 0.001, 0.1, 1, 10, 100,1000]}\n",
        "clf=GridSearchCV(Naive,param,scoring='accuracy',cv=10,return_train_score=True)\n",
        "clf.fit(X_train, y_train);\n",
        "clf.best_params_"
      ]
    },
    {
      "cell_type": "code",
      "execution_count": null,
      "metadata": {
        "colab": {
          "base_uri": "https://localhost:8080/"
        },
        "id": "mpOdKoJR5EAc",
        "outputId": "c4793379-752b-49b7-ee01-55554769686a"
      },
      "outputs": [
        {
          "name": "stdout",
          "output_type": "stream",
          "text": [
            "              precision    recall  f1-score   support\n",
            "\n",
            "           0       0.81      0.78      0.79       192\n",
            "           1       0.63      0.55      0.59       187\n",
            "           2       0.67      0.76      0.71       215\n",
            "\n",
            "    accuracy                           0.70       594\n",
            "   macro avg       0.70      0.70      0.70       594\n",
            "weighted avg       0.70      0.70      0.70       594\n",
            "\n"
          ]
        }
      ],
      "source": [
        "print(classification_report(y_test, predictions_NB))"
      ]
    },
    {
      "cell_type": "markdown",
      "metadata": {
        "id": "Cgi9wkTgtzBn"
      },
      "source": [
        "### Hyperparameter tunimgs"
      ]
    },
    {
      "cell_type": "code",
      "execution_count": null,
      "metadata": {
        "id": "bjzI0CqO1Ath"
      },
      "outputs": [],
      "source": [
        "# # hyperparameter tuning\n",
        "# # estimate 30++ minutes\n",
        "# params = {'max_depth': [3, 6, 10, 15],\n",
        "#               'learning_rate': [0.01, 0.1, 0.2, 0.3, 0.4],\n",
        "#               'subsample': np.arange(0.5, 1.0, 0.1),\n",
        "#               'colsample_bytree': np.arange(0.5, 1.0, 0.1),\n",
        "#               'colsample_bylevel': np.arange(0.5, 1.0, 0.1),\n",
        "#               'n_estimators': [100, 250, 500, 750],\n",
        "#               'num_class': [3]\n",
        "#               }\n",
        "\n",
        "# xgbclf = XGBClassifier(objective=\"multi:softmax\", tree_method='hist')\n",
        "# clf = RandomizedSearchCV(estimator=xgbclf,\n",
        "#                              param_distributions=params,\n",
        "#                              scoring='accuracy',\n",
        "#                              n_iter=25,\n",
        "#                              n_jobs=4,\n",
        "#                              verbose=1)\n",
        "# clf.fit(X_train, y_train)\n",
        "# best_combination = clf.best_params_\n",
        "# print(best_combination)"
      ]
    },
    {
      "cell_type": "code",
      "execution_count": null,
      "metadata": {
        "id": "D2YqXEQQ-uqz"
      },
      "outputs": [],
      "source": [
        "# # defining parameter range\n",
        "# param_grid = {'C': [0.1, 1, 10, 100],\n",
        "#               'gamma': [1, 0.1, 0.01, 0.001],\n",
        "#               'kernel' : ['linear', 'rbf', 'poly']}\n",
        "\n",
        "# grid = GridSearchCV(svm.SVC(), param_grid, refit = True, verbose = 3)\n",
        "\n",
        "# # fitting the model for grid search\n",
        "# grid.fit(X_train, y_train)\n",
        "# grid.best_params_"
      ]
    },
    {
      "cell_type": "code",
      "execution_count": null,
      "metadata": {
        "id": "dkNQmqSS57Vn"
      },
      "outputs": [],
      "source": [
        "# from sklearn.model_selection import RepeatedStratifiedKFold\n",
        "\n",
        "# cv_method = RepeatedStratifiedKFold(n_splits=5,\n",
        "#                                     n_repeats=3,\n",
        "#                                     random_state=999)\n",
        "\n",
        "# from sklearn.preprocessing import PowerTransformer\n",
        "# from sklearn.model_selection import GridSearchCV\n",
        "\n",
        "# params_NB = {'var_smoothing': np.logspace(0,-9, num=100)}\n",
        "\n",
        "# gs_NB = GridSearchCV(estimator=model,\n",
        "#                      param_grid=params_NB,\n",
        "#                      cv=cv_method,\n",
        "#                      verbose=1,\n",
        "#                      scoring='accuracy')\n",
        "# Xtn = X_test.toarray()\n",
        "# Data_transformed = PowerTransformer().fit_transform(Xtn)\n",
        "\n",
        "# gs_NB.fit(Data_transformed, y_test);\n",
        "# gs_NB.best_params_\n",
        "# gs_NB.best_score_"
      ]
    },
    {
      "cell_type": "code",
      "execution_count": null,
      "metadata": {
        "colab": {
          "base_uri": "https://localhost:8080/"
        },
        "id": "q8CXCefcC--P",
        "outputId": "38d477a6-9521-4102-9fe5-a7c03a4ac00f"
      },
      "outputs": [
        {
          "name": "stdout",
          "output_type": "stream",
          "text": [
            "              precision    recall  f1-score   support\n",
            "\n",
            "           0       0.87      0.96      0.92       192\n",
            "           1       0.90      0.83      0.86       187\n",
            "           2       0.96      0.93      0.95       215\n",
            "\n",
            "    accuracy                           0.91       594\n",
            "   macro avg       0.91      0.91      0.91       594\n",
            "weighted avg       0.91      0.91      0.91       594\n",
            "\n"
          ]
        }
      ],
      "source": [
        "from sklearn import svm\n",
        "cf = svm.SVC(C=1, gamma=0.1, kernel='linear')\n",
        "cf.fit(X_train,y_train)\n",
        "predicted = cf.predict(X_test)\n",
        "print(classification_report(y_test, predicted))"
      ]
    },
    {
      "cell_type": "code",
      "execution_count": null,
      "metadata": {
        "id": "y0R_yYBn6E2B"
      },
      "outputs": [],
      "source": []
    }
  ],
  "metadata": {
    "colab": {
      "provenance": [],
      "authorship_tag": "ABX9TyOPfySBhYBmloZgqjNeQ2kI",
      "include_colab_link": true
    },
    "kernelspec": {
      "display_name": "Python 3",
      "name": "python3"
    },
    "language_info": {
      "name": "python"
    }
  },
  "nbformat": 4,
  "nbformat_minor": 0
}